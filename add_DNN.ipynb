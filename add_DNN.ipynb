{
 "cells": [
  {
   "cell_type": "markdown",
   "metadata": {},
   "source": [
    "# Create Dataset"
   ]
  },
  {
   "cell_type": "code",
   "execution_count": 15,
   "metadata": {},
   "outputs": [],
   "source": [
    "import numpy as np\n",
    "\n",
    "np.random.seed(42)\n",
    "X_train = np.random.randint(0, 9, size=(100000, 2))\n",
    "X_test = np.random.randint(0, 9, size=(1000, 2))"
   ]
  },
  {
   "cell_type": "code",
   "execution_count": 16,
   "metadata": {},
   "outputs": [],
   "source": [
    "y_train = np.sum(X_train, axis=1)\n",
    "y_test = np.sum(X_test, axis=1)\n",
    "y_train = y_train.reshape(-1, 1)\n",
    "y_test = y_test.reshape(-1, 1)"
   ]
  },
  {
   "cell_type": "code",
   "execution_count": 17,
   "metadata": {},
   "outputs": [],
   "source": [
    "train_data_set = np.c_[X_train, y_train]\n",
    "test_data_set = np.c_[X_test, y_test]"
   ]
  },
  {
   "cell_type": "markdown",
   "metadata": {},
   "source": [
    "# construct dnn"
   ]
  },
  {
   "cell_type": "code",
   "execution_count": 18,
   "metadata": {},
   "outputs": [],
   "source": [
    "import tensorflow as tf"
   ]
  },
  {
   "cell_type": "code",
   "execution_count": 24,
   "metadata": {},
   "outputs": [],
   "source": [
    "n_inputs = 2\n",
    "n_hidden1 = 5\n",
    "n_hidden2 = 10\n",
    "n_hidden3 = 50\n",
    "n_output = 1\n",
    "learning_rate = 0.005"
   ]
  },
  {
   "cell_type": "code",
   "execution_count": 25,
   "metadata": {},
   "outputs": [],
   "source": [
    "tf.reset_default_graph()\n",
    "X = tf.placeholder(tf.float32, shape=(None, 2), name='X')\n",
    "y = tf.placeholder(tf.float32, shape=(None), name='y')\n",
    "\n",
    "with tf.name_scope('dnn'):\n",
    "    hidden1 = tf.layers.dense(X, n_hidden1, activation=tf.nn.leaky_relu, name='hidden1')\n",
    "    hidden2 = tf.layers.dense(hidden1, n_hidden2, activation=tf.nn.leaky_relu, name='hidden2')\n",
    "    #hidden3 = tf.layers.dense(hidden2, n_hidden3, activation=tf.nn.leaky_relu, name='hidden3')\n",
    "    output = tf.layers.dense(hidden2, n_output, name='output')\n",
    "\n",
    "with tf.name_scope('loss'):\n",
    "    loss = tf.reduce_mean(tf.square(output - y), name='loss')\n",
    "\n",
    "with tf.name_scope('train'):\n",
    "    optimizer = tf.train.AdamOptimizer(learning_rate)\n",
    "    training_op = optimizer.minimize(loss)\n",
    "\n",
    "with tf.name_scope('eval'):\n",
    "    accuracy = tf.reduce_mean(tf.square(output - y), name='acc')\n",
    "\n",
    "init = tf.global_variables_initializer()\n",
    "saver = tf.train.Saver()"
   ]
  },
  {
   "cell_type": "code",
   "execution_count": 26,
   "metadata": {},
   "outputs": [],
   "source": [
    "def fetch_data(X, y, batch_size, epoch, batch_idx):\n",
    "    n, m = X.shape\n",
    "    np.random.seed(epoch + batch_idx)\n",
    "    batch_ix = np.random.randint(n, size=batch_size)\n",
    "    X_batch , y_batch = X[batch_ix], y[batch_ix]\n",
    "    return X_batch, y_batch"
   ]
  },
  {
   "cell_type": "markdown",
   "metadata": {},
   "source": [
    "## Train dnn"
   ]
  },
  {
   "cell_type": "code",
   "execution_count": 27,
   "metadata": {},
   "outputs": [
    {
     "name": "stdout",
     "output_type": "stream",
     "text": [
      "0 acc:  0.00039876677\n",
      "5 acc:  7.649252e-06\n",
      "10 acc:  1.7379119e-06\n",
      "15 acc:  9.014135e-08\n",
      "20 acc:  1.9947965e-05\n",
      "25 acc:  2.2818489e-07\n",
      "30 acc:  3.0819012e-07\n",
      "35 acc:  1.2294107e-07\n",
      "final_acc:  8.865162e-08\n"
     ]
    }
   ],
   "source": [
    "n_epochs = 40\n",
    "batch_size = 200\n",
    "n_batchies = int(np.ceil(X_train.shape[0] // 200))\n",
    "\n",
    "with tf.Session() as sess:\n",
    "    init.run()\n",
    "    for epoch in range(n_epochs):\n",
    "        for batch_idx in range(n_batchies):\n",
    "            X_batch, y_batch = fetch_data(X_train, y_train, batch_size, epoch, batch_idx)\n",
    "            sess.run(training_op, feed_dict={X: X_batch, y: y_batch})\n",
    "        if epoch % 5 == 0:\n",
    "            acc = accuracy.eval(feed_dict={X: X_batch, y: y_batch})\n",
    "            print(epoch, 'acc: ', acc)\n",
    "    final_acc = sess.run(accuracy, feed_dict={X: X_test, y: y_test})\n",
    "    print('final_acc: ', final_acc)\n",
    "    y_pred = output.eval(feed_dict={X: X_test})\n",
    "    saver.save(sess, './my_models/add_dnn')"
   ]
  },
  {
   "cell_type": "markdown",
   "metadata": {},
   "source": [
    "## Test"
   ]
  },
  {
   "cell_type": "code",
   "execution_count": 28,
   "metadata": {
    "scrolled": true
   },
   "outputs": [
    {
     "name": "stdout",
     "output_type": "stream",
     "text": [
      "INFO:tensorflow:Restoring parameters from ./my_models/add_dnn\n",
      "[[ 2.          4.          6.00026178]\n",
      " [ 0.          7.          6.99981546]\n",
      " [ 4.          3.          7.00021267]\n",
      " ...\n",
      " [ 6.          3.          9.00031376]\n",
      " [ 0.          8.          7.999825  ]\n",
      " [ 6.          4.         10.00028324]]\n"
     ]
    }
   ],
   "source": [
    "\n",
    "with tf.Session() as sess:\n",
    "    saver.restore(sess, './my_models/add_dnn')\n",
    "    y_pred = output.eval(session=sess, feed_dict={X: X_test})\n",
    "    pred_set = np.c_[X_test, y_pred]\n",
    "    print(pred_set)"
   ]
  },
  {
   "cell_type": "markdown",
   "metadata": {},
   "source": [
    "いい感じ"
   ]
  }
 ],
 "metadata": {
  "kernelspec": {
   "display_name": "Python [default]",
   "language": "python",
   "name": "python3"
  },
  "language_info": {
   "codemirror_mode": {
    "name": "ipython",
    "version": 3
   },
   "file_extension": ".py",
   "mimetype": "text/x-python",
   "name": "python",
   "nbconvert_exporter": "python",
   "pygments_lexer": "ipython3",
   "version": "3.6.5"
  }
 },
 "nbformat": 4,
 "nbformat_minor": 2
}
