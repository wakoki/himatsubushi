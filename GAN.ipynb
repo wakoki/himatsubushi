{
 "cells": [
  {
   "cell_type": "code",
   "execution_count": 1,
   "metadata": {},
   "outputs": [],
   "source": [
    "import tensorflow as tf\n",
    "import numpy as np\n",
    "from sklearn.datasets import fetch_mldata"
   ]
  },
  {
   "cell_type": "code",
   "execution_count": 2,
   "metadata": {},
   "outputs": [],
   "source": [
    "mnist = fetch_mldata('MNIST original', data_home='./')\n",
    "X_, y_ = mnist['data'], mnist['target']\n",
    "X_train, X_test, y_train, y_test = X_[:60000], X_[60000:], y_[:60000], y_[60000:]\n",
    "shuffle_index = np.random.permutation(X_train.shape[0])\n",
    "X_train = X_train[shuffle_index]\n",
    "y_train = y_train[shuffle_index]"
   ]
  },
  {
   "cell_type": "markdown",
   "metadata": {},
   "source": [
    "## fetch 5 in MNIST datasets"
   ]
  },
  {
   "cell_type": "code",
   "execution_count": 296,
   "metadata": {},
   "outputs": [
    {
     "data": {
      "text/plain": [
       "(6313, 784)"
      ]
     },
     "execution_count": 296,
     "metadata": {},
     "output_type": "execute_result"
    }
   ],
   "source": [
    "y5_index = np.where(y_ == 5)\n",
    "X5 = X_[y5_index]\n",
    "X5.shape"
   ]
  },
  {
   "cell_type": "code",
   "execution_count": 297,
   "metadata": {},
   "outputs": [
    {
     "data": {
      "text/plain": [
       "<matplotlib.image.AxesImage at 0x7fee98b994a8>"
      ]
     },
     "execution_count": 297,
     "metadata": {},
     "output_type": "execute_result"
    },
    {
     "data": {
      "image/png": "[encoded data removed]",
      "text/plain": [
       "<Figure size 432x288 with 1 Axes>"
      ]
     },
     "metadata": {},
     "output_type": "display_data"
    }
   ],
   "source": [
    "import matplotlib.pyplot as plt\n",
    "%matplotlib inline\n",
    "X5 = X5 / 255\n",
    "X5_train, X5_test = X5[:5000], X5[5000:]\n",
    "plt.imshow(X5[0].reshape(28, 28))"
   ]
  },
  {
   "cell_type": "markdown",
   "metadata": {},
   "source": [
    "# GAN"
   ]
  },
  {
   "cell_type": "code",
   "execution_count": 280,
   "metadata": {
    "scrolled": true
   },
   "outputs": [],
   "source": [
    "tf.reset_default_graph()"
   ]
  },
  {
   "cell_type": "code",
   "execution_count": 281,
   "metadata": {},
   "outputs": [],
   "source": [
    "def loss(X, batch_size):\n",
    "    return tf.log(X)"
   ]
  },
  {
   "cell_type": "markdown",
   "metadata": {},
   "source": [
    "## generator network"
   ]
  },
  {
   "cell_type": "code",
   "execution_count": 282,
   "metadata": {},
   "outputs": [],
   "source": [
    "n_g_inputs = 28 * 28\n",
    "n_g_hidden1 = 150\n",
    "n_g_hidden2 = 100\n",
    "n_g_outputs = n_g_inputs"
   ]
  },
  {
   "cell_type": "code",
   "execution_count": 283,
   "metadata": {},
   "outputs": [],
   "source": [
    "def generate_base(n_g_inputs, batch_size, epoch, itr):\n",
    "    base = tf.random_uniform(shape=(batch_size, n_g_inputs), minval=0, maxval=1, seed=epoch+itr)\n",
    "    #y = tf.constant(dtype=tf.int32, shape=batch_size, value=0)\n",
    "    return base"
   ]
  },
  {
   "cell_type": "code",
   "execution_count": 284,
   "metadata": {},
   "outputs": [],
   "source": [
    "g_X = tf.placeholder(tf.float32, shape=(None, n_g_inputs), name='g_X')\n",
    "with tf.name_scope('generator'):\n",
    "    g_hidden1 = tf.layers.dense(g_X, n_g_hidden1, activation=tf.nn.leaky_relu, name='g_hidden1')\n",
    "    g_hidden2 = tf.layers.dense(g_hidden1, n_g_hidden2, activation=tf.nn.leaky_relu, name='g_hidden2')\n",
    "    g_output = tf.layers.dense(g_hidden2, n_g_outputs, activation=tf.nn.leaky_relu, name='g_output')\n",
    "\n",
    "#with tf.name_scope('g_loss'):\n",
    "    "
   ]
  },
  {
   "cell_type": "markdown",
   "metadata": {},
   "source": [
    "## discriminator network"
   ]
  },
  {
   "cell_type": "code",
   "execution_count": 285,
   "metadata": {},
   "outputs": [],
   "source": [
    "n_d_inputs = 28*28\n",
    "n_d_hidden1 = 75\n",
    "n_d_hidden2 = 75\n",
    "n_d_output = 2"
   ]
  },
  {
   "cell_type": "code",
   "execution_count": 286,
   "metadata": {},
   "outputs": [],
   "source": [
    "def minibatch(X, batch_size):\n",
    "    index = np.random.randint(0, len(X), batch_size)\n",
    "    X_batch = X[index]\n",
    "    #y = tf.constant(dtype=tf.int32,shape=batch_size, value=1)\n",
    "    return X_batch"
   ]
  },
  {
   "cell_type": "code",
   "execution_count": 287,
   "metadata": {},
   "outputs": [],
   "source": [
    "def return_y(batch_size):\n",
    "    y0 = np.zeros(batch_size)\n",
    "    y1 = np.ones(batch_size)\n",
    "    y = np.r_[y0, y1]\n",
    "    return tf.constant(y, dtype=tf.int32)"
   ]
  },
  {
   "cell_type": "code",
   "execution_count": 288,
   "metadata": {},
   "outputs": [],
   "source": [
    "d_X = tf.placeholder(tf.float32, shape=(None, n_d_inputs), name='d_X')\n",
    "d_y = tf.placeholder(tf.float32, shape=(None), name='d_y')\n",
    "n_batchies = tf.placeholder(tf.int32, shape=(None), name='n_batchies')\n",
    "with tf.name_scope('discriminator'):\n",
    "    d_hidden1 = tf.layers.dense(d_X, n_d_hidden1, activation=tf.nn.relu, name='d_hidden1')\n",
    "    d_hidden2 = tf.layers.dense(d_hidden1, n_d_hidden2, activation=tf.nn.relu, name='d_hidden2')\n",
    "    d_output = tf.layers.dense(d_hidden2, n_d_output, name='d_output')\n",
    "    #d_sigmoid = tf.sigmoid(d_output)\n",
    "\n",
    "with tf.name_scope('loss'):\n",
    "    #softmax = tf.nn.softmax(logits=d_output)\n",
    "    #y0 = tf.slice(softmax, begin=(0, 0), size=(n_batchies, -1))\n",
    "    #y1 = tf.slice(softmax, begin=(n_batchies, 0), size=(n_batchies, -1))\n",
    "    #d_loss = -tf.reduce_mean(tf.log(y1) + tf.log(1 - y0))\n",
    "    xentropy = tf.nn.sparse_softmax_cross_entropy_with_logits(logits=d_output, labels=tf.cast(d_y, tf.int32))\n",
    "    d_loss = tf.reduce_mean(xentropy)\n",
    "with tf.name_scope('train'):\n",
    "    d_optimizer = tf.train.AdamOptimizer()\n",
    "    d_training_op = d_optimizer.minimize(d_loss)\n",
    "    \n",
    "with tf.name_scope('eval'):\n",
    "    correct = tf.nn.in_top_k(d_output, tf.cast(d_y, tf.int32), 1)\n",
    "    acc = tf.reduce_mean(tf.cast(correct, tf.float32))"
   ]
  },
  {
   "cell_type": "code",
   "execution_count": 289,
   "metadata": {},
   "outputs": [],
   "source": [
    "init = tf.global_variables_initializer()"
   ]
  },
  {
   "cell_type": "code",
   "execution_count": 299,
   "metadata": {},
   "outputs": [],
   "source": [
    "n_epochs = 10\n",
    "batch_size = 20\n",
    "test_batch_size = 1000"
   ]
  },
  {
   "cell_type": "code",
   "execution_count": 301,
   "metadata": {
    "scrolled": true
   },
   "outputs": [
    {
     "name": "stdout",
     "output_type": "stream",
     "text": [
      "[ True  True  True ... False False False]\n",
      "0.501\n",
      "[ True  True  True ... False False False]\n",
      "0.5\n",
      "[ True  True  True ... False False False]\n",
      "0.5\n",
      "[ True  True  True ... False False False]\n",
      "0.5\n",
      "[ True  True  True ... False False False]\n",
      "0.5\n",
      "[ True  True  True ... False False False]\n",
      "0.5\n",
      "[ True  True  True ... False False False]\n",
      "0.5\n",
      "[ True  True  True ... False False False]\n",
      "0.5\n",
      "[ True  True  True ... False False False]\n",
      "0.5\n",
      "[ True  True  True ... False False False]\n",
      "0.5\n"
     ]
    }
   ],
   "source": [
    "with tf.Session() as sess:\n",
    "    init.run()\n",
    "    for epoch in range(n_epochs):\n",
    "        for itr in range(10):\n",
    "            #Generatorから生成した画像\n",
    "            noise_seed = generate_base(n_g_inputs, batch_size, epoch, itr)\n",
    "            noise = noise_seed.eval()\n",
    "            X0 = g_output.eval(feed_dict={g_X: noise})\n",
    "            #MNISTの画像\n",
    "            X1 = tf.cast(minibatch(X5_train, batch_size), tf.float32).eval()\n",
    "            #テンソルの結合\n",
    "            X_concat = tf.concat([X0, X1], 0).eval()\n",
    "            y_concat = return_y(batch_size).eval()\n",
    "            shuffle_idx = np.random.randint(0, batch_size, batch_size * 2)\n",
    "            X_concat_sh, y_concat_sh = X_concat[shuffle_idx, :], y_concat[shuffle_idx]\n",
    "            sess.run(d_training_op, feed_dict={d_X: X_concat_sh, n_batchies: batch_size, d_y: y_concat_sh})\n",
    "            if itr % 50 == 0:\n",
    "                noise_test = generate_base(n_g_inputs, test_batch_size, epoch, itr).eval()\n",
    "                X0_test = g_output.eval(feed_dict={g_X: noise_test})\n",
    "                X1_test = tf.cast(minibatch(X5_test, test_batch_size), tf.float32).eval()\n",
    "                X_test_concat = tf.concat([X0_test, X1_test], 0).eval()\n",
    "                y_test_concat = return_y(test_batch_size).eval()\n",
    "                print(correct.eval(feed_dict={d_X: X_test_concat, d_y: y_test_concat}))\n",
    "                accuracy = acc.eval(feed_dict={d_X: X_test_concat, d_y: y_test_concat})\n",
    "                print(accuracy)\n"
   ]
  },
  {
   "cell_type": "markdown",
   "metadata": {},
   "source": [
    "MNISTのほうが分類できてないっぽい"
   ]
  },
  {
   "cell_type": "code",
   "execution_count": null,
   "metadata": {},
   "outputs": [],
   "source": []
  }
 ],
 "metadata": {
  "kernelspec": {
   "display_name": "Python [default]",
   "language": "python",
   "name": "python3"
  },
  "language_info": {
   "codemirror_mode": {
    "name": "ipython",
    "version": 3
   },
   "file_extension": ".py",
   "mimetype": "text/x-python",
   "name": "python",
   "nbconvert_exporter": "python",
   "pygments_lexer": "ipython3",
   "version": "3.6.5"
  }
 },
 "nbformat": 4,
 "nbformat_minor": 2
}
