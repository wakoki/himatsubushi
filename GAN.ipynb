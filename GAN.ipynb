{
 "cells": [
  {
   "cell_type": "code",
   "execution_count": 1,
   "metadata": {},
   "outputs": [],
   "source": [
    "import tensorflow as tf\n",
    "import numpy as np\n",
    "from sklearn.datasets import fetch_mldata"
   ]
  },
  {
   "cell_type": "code",
   "execution_count": 2,
   "metadata": {},
   "outputs": [],
   "source": [
    "mnist = fetch_mldata('MNIST original', data_home='./')\n",
    "X_, y_ = mnist['data'], mnist['target']\n",
    "X_train, X_test, y_train, y_test = X_[:60000], X_[60000:], y_[:60000], y_[60000:]\n",
    "shuffle_index = np.random.permutation(X_train.shape[0])\n",
    "X_train = X_train[shuffle_index]\n",
    "y_train = y_train[shuffle_index]"
   ]
  },
  {
   "cell_type": "markdown",
   "metadata": {},
   "source": [
    "## fetch 5 in MNIST datasets"
   ]
  },
  {
   "cell_type": "code",
   "execution_count": 3,
   "metadata": {},
   "outputs": [
    {
     "data": {
      "text/plain": [
       "(6903, 784)"
      ]
     },
     "execution_count": 3,
     "metadata": {},
     "output_type": "execute_result"
    }
   ],
   "source": [
    "y5_index = np.where(y_ == 0)\n",
    "X5 = X_[y5_index]\n",
    "X5.shape"
   ]
  },
  {
   "cell_type": "code",
   "execution_count": 4,
   "metadata": {},
   "outputs": [
    {
     "data": {
      "text/plain": [
       "<matplotlib.image.AxesImage at 0x7f6b881119b0>"
      ]
     },
     "execution_count": 4,
     "metadata": {},
     "output_type": "execute_result"
    },
    {
     "data": {
      "image/png": "[encoded data removed]",
      "text/plain": [
       "<Figure size 432x288 with 1 Axes>"
      ]
     },
     "metadata": {},
     "output_type": "display_data"
    }
   ],
   "source": [
    "import matplotlib.pyplot as plt\n",
    "%matplotlib inline\n",
    "X5 = X5 / 255\n",
    "X5_train, X5_test = X5[:5000], X5[5000:]\n",
    "plt.imshow(X5[0].reshape(28, 28))"
   ]
  },
  {
   "cell_type": "markdown",
   "metadata": {},
   "source": [
    "# GAN"
   ]
  },
  {
   "cell_type": "code",
   "execution_count": 5,
   "metadata": {
    "scrolled": true
   },
   "outputs": [],
   "source": [
    "from datetime import datetime\n",
    "\n",
    "now = datetime.utcnow().strftime('%Y%m%d%H%M%S')\n",
    "rootdir = 'tf_logs'\n",
    "logdir = '{}/run-{}'.format(rootdir, now)\n",
    "\n",
    "tf.reset_default_graph()\n",
    "\n",
    "noise_size = 14 * 14\n",
    "n_g_inputs = 28 * 28\n",
    "n_g_hidden1 = 128\n",
    "n_g_hidden2 = 200\n",
    "n_g_hidden3 = 512            #Generatorから生成した画像\n",
    "n_g_outputs = n_g_inputs\n",
    "\n",
    "n_d_inputs = 28*28\n",
    "n_d_hidden1 = 200\n",
    "n_d_hidden2 = 200\n",
    "n_d_output = 2\n",
    "\n",
    "def generate_base(n_g_inputs, batch_size):\n",
    "    base = tf.random_uniform(shape=(batch_size, noise_size))\n",
    "    return base\n",
    "\n",
    "def minibatch(X, batch_size):\n",
    "    index = np.random.randint(0, len(X), batch_size)\n",
    "    X_batch = X[index]\n",
    "    return X_batch\n",
    "\n",
    "def return_y(batch_size):\n",
    "    y_0 = np.zeros(batch_size)\n",
    "    y_1 = np.ones(batch_size)\n",
    "    y = np.r_[y_0, y_1]\n",
    "    return tf.constant(y, dtype=tf.int32)\n",
    "\n",
    "g_X = tf.placeholder(tf.float32, shape=(None, noise_size), name='g_X')\n",
    "MNIST_X = tf.placeholder(tf.float32, shape=(None, n_g_inputs), name='MNIST_X')\n",
    "\n",
    "d_y = tf.placeholder(tf.float32, shape=(None), name='d_y')\n",
    "n_batchies = tf.placeholder(tf.int32, shape=(None), name='n_batchies')\n",
    "training = tf.placeholder_with_default(False, shape=(), name='training')\n",
    "dropout_rate = 0.7\n",
    "\n",
    "with tf.name_scope('generator'):\n",
    "    X_drop = tf.layers.dropout(g_X, dropout_rate, training=training)\n",
    "    g_hidden1 = tf.layers.dense(X_drop, n_g_hidden1, activation=tf.nn.tanh, name='g_hidden1')\n",
    "    #g_drop1 = tf.layers.dropout(g_hidden1, dropout_rate, training=training)\n",
    "    #g_hidden2 = tf.layers.dense(g_hidden1, n_g_hidden2, activation=tf.nn.tanh, name='g_hidden2')\n",
    "    #g_drop2 = tf.layers.dropout(g_hidden2, dropout_rate, training=training)\n",
    "    #g_hidden3 = tf.layers.dense(g_hidden2, n_g_hidden3, activation=tf.nn.relu, name='g_hidden3')\n",
    "    g_output = tf.layers.dense(g_hidden1, n_g_outputs, activation=tf.nn.sigmoid, name='g_output')\n",
    "    g_concat = tf.concat([g_output, MNIST_X], 0)\n",
    "    \n",
    "with tf.name_scope('discriminator'):\n",
    "    d_hidden1 = tf.layers.dense(g_concat, n_d_hidden1, activation=tf.nn.relu, name='d_hidden1')\n",
    "    d_hidden2 = tf.layers.dense(d_hidden1, n_d_hidden2, activation=tf.nn.relu, name='d_hidden2')\n",
    "    d_output = tf.layers.dense(d_hidden2, n_d_output,activation=tf.nn.sigmoid, name='d_output')\n",
    "\n",
    "with tf.name_scope('g_loss'):\n",
    "    g_softmax = tf.nn.softmax(logits=d_output)\n",
    "    pred = tf.slice(g_softmax, begin=(0, 1), size=(n_batchies, 1))\n",
    "    g_loss = tf.reduce_mean(tf.log(1 - g_softmax[0:n_batchies, 1]))\n",
    "\n",
    "with tf.name_scope('g_train'):\n",
    "    g_optimizer = tf.train.AdamOptimizer(learning_rate=0.001)\n",
    "    g_train_vars = tf.get_collection(tf.GraphKeys.TRAINABLE_VARIABLES,\n",
    "                                  scope='g_hidden[12]|g_output')\n",
    "    g_training_op = g_optimizer.minimize(g_loss, var_list=g_train_vars)\n",
    "\n",
    "with tf.name_scope('d_loss'):\n",
    "    d_softmax = tf.nn.softmax(logits=d_output)\n",
    "    y0 = tf.slice(d_softmax, begin=(0, 1), size=(n_batchies, 1))\n",
    "    y1 = tf.slice(d_softmax, begin=(n_batchies, 1), size=(n_batchies, 1))\n",
    "    d_loss = -tf.reduce_mean(tf.log(d_softmax[n_batchies: , 1]) + tf.log((1 - d_softmax[0: n_batchies , 1])))\n",
    "    \n",
    "with tf.name_scope('d_train'):\n",
    "    d_optimizer = tf.train.AdamOptimizer()\n",
    "    d_train_vars = tf.get_collection(tf.GraphKeys.TRAINABLE_VARIABLES,\n",
    "                                    scope='d_hidden[12]|d_output')\n",
    "    d_training_op = d_optimizer.minimize(d_loss, var_list=d_train_vars)\n",
    "    \n",
    "with tf.name_scope('d_eval'):\n",
    "    correct = tf.nn.in_top_k(d_output, tf.cast(d_y, tf.int32), 1)\n",
    "    acc = tf.reduce_mean(tf.cast(correct, tf.float32))\n",
    "    "
   ]
  },
  {
   "cell_type": "code",
   "execution_count": 6,
   "metadata": {},
   "outputs": [],
   "source": [
    "init = tf.global_variables_initializer()\n",
    "\n",
    "n_epochs = 100\n",
    "d_batch_size = 1000\n",
    "g_batch_size = d_batch_size // 2\n",
    "test_batch_size = 10\n",
    "list = []\n",
    "iteration = X5_train.shape[0] // d_batch_size\n",
    "\n",
    "file_writer = tf.summary.FileWriter(logdir, tf.get_default_graph())"
   ]
  },
  {
   "cell_type": "code",
   "execution_count": 7,
   "metadata": {
    "scrolled": true
   },
   "outputs": [
    {
     "name": "stdout",
     "output_type": "stream",
     "text": [
      "0\n",
      "1\n",
      "2\n",
      "3\n",
      "4\n",
      "5\n",
      "6\n",
      "7\n",
      "8\n",
      "9\n",
      "10\n",
      "11\n",
      "12\n",
      "13\n",
      "14\n",
      "15\n",
      "16\n",
      "17\n",
      "18\n",
      "19\n",
      "20\n",
      "21\n",
      "22\n",
      "23\n",
      "24\n",
      "25\n",
      "26\n",
      "27\n",
      "28\n",
      "29\n",
      "30\n",
      "31\n",
      "32\n",
      "33\n",
      "34\n",
      "35\n",
      "36\n",
      "37\n",
      "38\n",
      "39\n",
      "40\n",
      "41\n",
      "42\n",
      "43\n",
      "44\n",
      "45\n",
      "46\n",
      "47\n",
      "48\n",
      "49\n",
      "50\n",
      "51\n",
      "52\n",
      "53\n",
      "54\n",
      "55\n",
      "56\n",
      "57\n",
      "58\n",
      "59\n",
      "60\n",
      "61\n",
      "62\n",
      "63\n",
      "64\n",
      "65\n",
      "66\n",
      "67\n",
      "68\n",
      "69\n",
      "70\n",
      "71\n",
      "72\n",
      "73\n",
      "74\n",
      "75\n",
      "76\n",
      "77\n",
      "78\n",
      "79\n",
      "80\n",
      "81\n",
      "82\n",
      "83\n",
      "84\n",
      "85\n",
      "86\n",
      "87\n",
      "88\n",
      "89\n",
      "90\n",
      "91\n",
      "92\n",
      "93\n",
      "94\n",
      "95\n",
      "96\n",
      "97\n",
      "98\n",
      "99\n"
     ]
    },
    {
     "data": {
      "image/png": "[encoded data removed]",
      "text/plain": [
       "<Figure size 432x288 with 1 Axes>"
      ]
     },
     "metadata": {},
     "output_type": "display_data"
    }
   ],
   "source": [
    "with tf.Session() as sess:\n",
    "    init.run()\n",
    "    noise = generate_base(n_g_inputs, d_batch_size * iteration * n_epochs).eval()\n",
    "    X5_train = tf.cast(X5_train, tf.float32).eval()\n",
    "    for epoch in range(n_epochs):\n",
    "        for itr in range(iteration):\n",
    "            if itr % 2 == 0:\n",
    "                d_noise1 = minibatch(noise, d_batch_size)\n",
    "                X1 = minibatch(X5_train, d_batch_size)\n",
    "                sess.run(d_training_op, feed_dict={g_X: d_noise1, MNIST_X: X1, n_batchies: d_batch_size})\n",
    "            \n",
    "            g_noise1 = minibatch(noise, g_batch_size)\n",
    "            g_noise2 = minibatch(noise, g_batch_size)\n",
    "            gene = g_output.eval(feed_dict={g_X: g_noise1})                \n",
    "            sess.run(g_training_op, feed_dict={g_X: g_noise2, MNIST_X: gene, n_batchies: g_batch_size*2, training: True})\n",
    "        append_noise = minibatch(noise, 1)\n",
    "        list.append(g_output.eval(feed_dict={g_X: append_noise}))\n",
    "\n",
    "        print(epoch)\n",
    "    finish_noise = generate_base(n_g_inputs, 1).eval()\n",
    "    list.append(finish_noise)\n",
    "    finish_generated = g_output.eval(feed_dict={g_X: finish_noise})\n",
    "    list.append(finish_generated)\n",
    "    plt.imshow(finish_generated.reshape(28, 28))\n",
    "        "
   ]
  },
  {
   "cell_type": "code",
   "execution_count": 8,
   "metadata": {},
   "outputs": [
    {
     "data": {
      "text/plain": [
       "102"
      ]
     },
     "execution_count": 8,
     "metadata": {},
     "output_type": "execute_result"
    }
   ],
   "source": [
    "len(list)"
   ]
  },
  {
   "cell_type": "code",
   "execution_count": 17,
   "metadata": {},
   "outputs": [
    {
     "data": {
      "text/plain": [
       "<matplotlib.image.AxesImage at 0x7f6b7c0e0c88>"
      ]
     },
     "execution_count": 17,
     "metadata": {},
     "output_type": "execute_result"
    },
    {
     "data": {
      "image/png": "[encoded data removed]",
      "text/plain": [
       "<Figure size 432x288 with 1 Axes>"
      ]
     },
     "metadata": {},
     "output_type": "display_data"
    }
   ],
   "source": [
    "plt.imshow(list[0].reshape(28, 28), cmap='gray')"
   ]
  },
  {
   "cell_type": "code",
   "execution_count": 10,
   "metadata": {},
   "outputs": [
    {
     "data": {
      "text/plain": [
       "<matplotlib.image.AxesImage at 0x7f6b7c2d0c88>"
      ]
     },
     "execution_count": 10,
     "metadata": {},
     "output_type": "execute_result"
    },
    {
     "data": {
      "image/png": "[encoded data removed]",
      "text/plain": [
       "<Figure size 432x288 with 1 Axes>"
      ]
     },
     "metadata": {},
     "output_type": "display_data"
    }
   ],
   "source": [
    "plt.imshow(list[len(list)-2].reshape(14, 14), cmap='gray')"
   ]
  },
  {
   "cell_type": "code",
   "execution_count": 11,
   "metadata": {
    "scrolled": false
   },
   "outputs": [
    {
     "data": {
      "text/plain": [
       "<matplotlib.image.AxesImage at 0x7f6b7eb669b0>"
      ]
     },
     "execution_count": 11,
     "metadata": {},
     "output_type": "execute_result"
    },
    {
     "data": {
      "image/png": "[encoded data removed]",
      "text/plain": [
       "<Figure size 432x288 with 1 Axes>"
      ]
     },
     "metadata": {},
     "output_type": "display_data"
    }
   ],
   "source": [
    "#print(list[584].reshape(28, 28))\n",
    "plt.imshow(list[len(list)-1].reshape(28, 28),cmap='gray')"
   ]
  },
  {
   "cell_type": "code",
   "execution_count": 12,
   "metadata": {},
   "outputs": [
    {
     "data": {
      "text/plain": [
       "<matplotlib.image.AxesImage at 0x7f6b7c2b40f0>"
      ]
     },
     "execution_count": 12,
     "metadata": {},
     "output_type": "execute_result"
    },
    {
     "data": {
      "image/png": "[encoded data removed]",
      "text/plain": [
       "<Figure size 432x288 with 1 Axes>"
      ]
     },
     "metadata": {},
     "output_type": "display_data"
    }
   ],
   "source": [
    "plt.imshow(X5_train[900].reshape(28, 28),cmap='gray')"
   ]
  },
  {
   "cell_type": "code",
   "execution_count": null,
   "metadata": {},
   "outputs": [],
   "source": []
  }
 ],
 "metadata": {
  "kernelspec": {
   "display_name": "Python [default]",
   "language": "python",
   "name": "python3"
  },
  "language_info": {
   "codemirror_mode": {
    "name": "ipython",
    "version": 3
   },
   "file_extension": ".py",
   "mimetype": "text/x-python",
   "name": "python",
   "nbconvert_exporter": "python",
   "pygments_lexer": "ipython3",
   "version": "3.6.5"
  }
 },
 "nbformat": 4,
 "nbformat_minor": 2
}
